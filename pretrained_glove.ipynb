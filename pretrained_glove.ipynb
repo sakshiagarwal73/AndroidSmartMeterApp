{
  "nbformat": 4,
  "nbformat_minor": 0,
  "metadata": {
    "colab": {
      "name": "pretrained_glove.ipynb",
      "provenance": [],
      "mount_file_id": "1sSibA83VK1extu02SN4LuESK3M_W3Sju",
      "authorship_tag": "ABX9TyOfYhClLWn49zKwFpgC/ev2",
      "include_colab_link": true
    },
    "kernelspec": {
      "name": "python3",
      "display_name": "Python 3"
    }
  },
  "cells": [
    {
      "cell_type": "markdown",
      "metadata": {
        "id": "view-in-github",
        "colab_type": "text"
      },
      "source": [
        "<a href=\"https://colab.research.google.com/github/sonakshisen1234/FinalProject/blob/master/pretrained_glove.ipynb\" target=\"_parent\"><img src=\"https://colab.research.google.com/assets/colab-badge.svg\" alt=\"Open In Colab\"/></a>"
      ]
    },
    {
      "cell_type": "code",
      "metadata": {
        "id": "pFrbGzjLiL2S",
        "colab_type": "code",
        "outputId": "8330837f-1893-46a7-8064-742471f2c5c4",
        "colab": {
          "base_uri": "https://localhost:8080/",
          "height": 34
        }
      },
      "source": [
        "import numpy as np\n",
        "from sklearn.metrics.pairwise import pairwise_distances\n",
        "\n",
        "def dist1(a,b): #euclidean distance\n",
        "  x = np.linalg.norm(a-b)\n",
        "  return x\n",
        "def dist2(a,b): #cosine distance\n",
        "  x = 1 - (a.dot(b)/(np.linalg.norm(a)*np.linalg.norm(b)))\n",
        "  return x \n",
        "\n",
        "def find_analogies(w1,w2,w3):\n",
        "  king = glove[w1]\n",
        "  man = glove[w2]\n",
        "  woman = glove[w3]\n",
        "  v0 = king-man+woman\n",
        "\n",
        "  distances = pairwise_distances(v0.reshape(1,D),embedding,metric='cosine').reshape(V) # a numpy array of v values indicating distance\n",
        "  idxs = distances.argsort()[:4] # this sorts the numpy vector and gives indexes, not values(to prederve the index)\n",
        "  best_word = ''\n",
        "  for idx in idxs:\n",
        "    word = idx2word[idx]\n",
        "    if word not in(w1,w2,w3):\n",
        "      best_word = word\n",
        "      break\n",
        "  print(w1 + \"-\" + w2 + \"=\" + best_word + \"-\" + w3)  \n",
        "\n",
        "def nearest_neighbors(w, n=5):\n",
        "  if w not in glove:\n",
        "    print(\"%s not in dictionary:\" % w)\n",
        "    return\n",
        "\n",
        "  v = glove[w]\n",
        "  distances = pairwise_distances(v.reshape(1, D), embedding, metric=metric).reshape(V)\n",
        "  idxs = distances.argsort()[1:n+1]\n",
        "  print(\"neighbors of: %s\" % w)\n",
        "  for idx in idxs:\n",
        "    print( idx2word[idx])\n",
        "\n",
        "\n",
        "glove = {}\n",
        "embedding = []\n",
        "idx2word = []\n",
        "\n",
        "with open('drive/My Drive/large_files/glove.6B.50d.txt') as f:\n",
        "  for line in f:\n",
        "    values = line.split()\n",
        "    word = values[0]\n",
        "    vec = np.asarray(values[1:],dtype='float32')\n",
        "    glove[word] = vec\n",
        "    embedding.append(vec)\n",
        "    idx2word.append(word)\n",
        "\n",
        "embedding = np.array(embedding) #converting list to numpy vector\n",
        "V,D = embedding.shape \n",
        "find_analogies('swim','eat','ate')   \n",
        "        "
      ],
      "execution_count": 0,
      "outputs": [
        {
          "output_type": "stream",
          "text": [
            "swim-eat=swam-ate\n"
          ],
          "name": "stdout"
        }
      ]
    },
    {
      "cell_type": "code",
      "metadata": {
        "id": "97sdW6CUnbYB",
        "colab_type": "code",
        "outputId": "8c9c5df0-c33e-4ada-ec3f-d69c8a9c0add",
        "colab": {
          "base_uri": "https://localhost:8080/",
          "height": 122
        }
      },
      "source": [
        "from google.colab import drive\n",
        "\n",
        "drive.mount('/content/gdrive')"
      ],
      "execution_count": 0,
      "outputs": [
        {
          "output_type": "stream",
          "text": [
            "Go to this URL in a browser: https://accounts.google.com/o/oauth2/auth?client_id=947318989803-6bn6qk8qdgf4n4g3pfee6491hc0brc4i.apps.googleusercontent.com&redirect_uri=urn%3aietf%3awg%3aoauth%3a2.0%3aoob&response_type=code&scope=email%20https%3a%2f%2fwww.googleapis.com%2fauth%2fdocs.test%20https%3a%2f%2fwww.googleapis.com%2fauth%2fdrive%20https%3a%2f%2fwww.googleapis.com%2fauth%2fdrive.photos.readonly%20https%3a%2f%2fwww.googleapis.com%2fauth%2fpeopleapi.readonly\n",
            "\n",
            "Enter your authorization code:\n",
            "··········\n",
            "Mounted at /content/gdrive\n"
          ],
          "name": "stdout"
        }
      ]
    }
  ]
}